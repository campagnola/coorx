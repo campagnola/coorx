{
 "cells": [
  {
   "cell_type": "code",
   "execution_count": 1,
   "metadata": {
    "ExecuteTime": {
     "end_time": "2025-04-30T18:38:49.948173Z",
     "start_time": "2025-04-30T18:38:49.630740Z"
    },
    "execution": {
     "iopub.execute_input": "2025-04-30T18:50:16.275625Z",
     "iopub.status.busy": "2025-04-30T18:50:16.275384Z",
     "iopub.status.idle": "2025-04-30T18:50:16.853746Z",
     "shell.execute_reply": "2025-04-30T18:50:16.853231Z"
    }
   },
   "outputs": [],
   "source": [
    "###################\n",
    "# This gets run by the conftest.py NotebookFile plugin and asserts that all output cells\n",
    "# are identical (within tolerance) to the last run. Failed runs will save the output to a\n",
    "# separate file for review. If using `act -j test`, you will need to also pass `--bind`\n",
    "# to get that file.\n",
    "###################\n",
    "from coorx.image import Image\n",
    "import numpy as np\n",
    "import matplotlib.pyplot as plt"
   ]
  },
  {
   "cell_type": "code",
   "execution_count": 4,
   "metadata": {
    "ExecuteTime": {
     "end_time": "2025-04-30T18:38:50.329225Z",
     "start_time": "2025-04-30T18:38:49.953396Z"
    },
    "execution": {
     "iopub.execute_input": "2025-04-30T18:50:16.855284Z",
     "iopub.status.busy": "2025-04-30T18:50:16.855097Z",
     "iopub.status.idle": "2025-04-30T18:50:17.158856Z",
     "shell.execute_reply": "2025-04-30T18:50:17.158556Z"
    }
   },
   "outputs": [
    {
     "ename": "TypeError",
     "evalue": "System 'image_2' is 2D (expected 3D)",
     "output_type": "error",
     "traceback": [
      "\u001b[0;31m---------------------------------------------------------------------------\u001b[0m",
      "\u001b[0;31mTypeError\u001b[0m                                 Traceback (most recent call last)",
      "Cell \u001b[0;32mIn[4], line 11\u001b[0m\n\u001b[1;32m      8\u001b[0m img1 \u001b[38;5;241m=\u001b[39m Image(img_data)\n\u001b[1;32m      9\u001b[0m pts1 \u001b[38;5;241m=\u001b[39m img1\u001b[38;5;241m.\u001b[39mpoint_array([[\u001b[38;5;241m20\u001b[39m, \u001b[38;5;241m20\u001b[39m], [\u001b[38;5;241m80\u001b[39m, \u001b[38;5;241m20\u001b[39m], [\u001b[38;5;241m20\u001b[39m, \u001b[38;5;241m80\u001b[39m], [\u001b[38;5;241m80\u001b[39m, \u001b[38;5;241m80\u001b[39m]])\n\u001b[0;32m---> 11\u001b[0m img2 \u001b[38;5;241m=\u001b[39m \u001b[43mimg1\u001b[49m\u001b[38;5;241;43m.\u001b[39;49m\u001b[43mrotate\u001b[49m\u001b[43m(\u001b[49m\u001b[38;5;241;43m30\u001b[39;49m\u001b[43m,\u001b[49m\u001b[43m \u001b[49m\u001b[43maxes\u001b[49m\u001b[38;5;241;43m=\u001b[39;49m\u001b[43m(\u001b[49m\u001b[38;5;241;43m0\u001b[39;49m\u001b[43m,\u001b[49m\u001b[43m \u001b[49m\u001b[38;5;241;43m1\u001b[39;49m\u001b[43m)\u001b[49m\u001b[43m,\u001b[49m\u001b[43m \u001b[49m\u001b[43morder\u001b[49m\u001b[38;5;241;43m=\u001b[39;49m\u001b[38;5;241;43m2\u001b[39;49m\u001b[43m,\u001b[49m\u001b[43m \u001b[49m\u001b[43mprefilter\u001b[49m\u001b[38;5;241;43m=\u001b[39;49m\u001b[38;5;28;43;01mTrue\u001b[39;49;00m\u001b[43m)\u001b[49m\n\u001b[1;32m     12\u001b[0m pts2 \u001b[38;5;241m=\u001b[39m pts1\u001b[38;5;241m.\u001b[39mmapped_to(img2\u001b[38;5;241m.\u001b[39msystem)\n\u001b[1;32m     14\u001b[0m img3 \u001b[38;5;241m=\u001b[39m img2[\u001b[38;5;241m30\u001b[39m:\u001b[38;5;241m90\u001b[39m, :]\n",
      "File \u001b[0;32m~/docs/acq4/deps/coorx/coorx/image.py:122\u001b[0m, in \u001b[0;36mImage.rotate\u001b[0;34m(self, angle, axes, **kwds)\u001b[0m\n\u001b[1;32m    120\u001b[0m shape1 \u001b[38;5;241m=\u001b[39m (\u001b[38;5;28mself\u001b[39m\u001b[38;5;241m.\u001b[39mshape[axes[\u001b[38;5;241m0\u001b[39m]], \u001b[38;5;28mself\u001b[39m\u001b[38;5;241m.\u001b[39mshape[axes[\u001b[38;5;241m1\u001b[39m]])\n\u001b[1;32m    121\u001b[0m shape2 \u001b[38;5;241m=\u001b[39m (rotated_img\u001b[38;5;241m.\u001b[39mshape[axes[\u001b[38;5;241m0\u001b[39m]], rotated_img\u001b[38;5;241m.\u001b[39mshape[axes[\u001b[38;5;241m1\u001b[39m]])\n\u001b[0;32m--> 122\u001b[0m img2\u001b[38;5;241m.\u001b[39m_parent_tr \u001b[38;5;241m=\u001b[39m \u001b[38;5;28;43mself\u001b[39;49m\u001b[38;5;241;43m.\u001b[39;49m\u001b[43mmake_rotation_transform\u001b[49m\u001b[43m(\u001b[49m\u001b[43mangle\u001b[49m\u001b[43m,\u001b[49m\u001b[43m \u001b[49m\u001b[43maxes\u001b[49m\u001b[43m,\u001b[49m\u001b[43m \u001b[49m\u001b[43mshape1\u001b[49m\u001b[43m,\u001b[49m\u001b[43m \u001b[49m\u001b[43mshape2\u001b[49m\u001b[43m,\u001b[49m\u001b[43m \u001b[49m\u001b[43mfrom_cs\u001b[49m\u001b[38;5;241;43m=\u001b[39;49m\u001b[38;5;28;43mself\u001b[39;49m\u001b[38;5;241;43m.\u001b[39;49m\u001b[43msystem\u001b[49m\u001b[43m,\u001b[49m\u001b[43m \u001b[49m\u001b[43mto_cs\u001b[49m\u001b[38;5;241;43m=\u001b[39;49m\u001b[43mimg2\u001b[49m\u001b[38;5;241;43m.\u001b[39;49m\u001b[43msystem\u001b[49m\u001b[43m)\u001b[49m\n\u001b[1;32m    123\u001b[0m \u001b[38;5;28;01mreturn\u001b[39;00m img2\n",
      "File \u001b[0;32m~/docs/acq4/deps/coorx/coorx/image.py:156\u001b[0m, in \u001b[0;36mImage.make_rotation_transform\u001b[0;34m(self, angle, axes, shape1, shape2, **kwds)\u001b[0m\n\u001b[1;32m    154\u001b[0m center1 \u001b[38;5;241m=\u001b[39m np\u001b[38;5;241m.\u001b[39marray(shape1) \u001b[38;5;241m/\u001b[39m \u001b[38;5;241m2\u001b[39m\n\u001b[1;32m    155\u001b[0m center2 \u001b[38;5;241m=\u001b[39m np\u001b[38;5;241m.\u001b[39marray(shape2) \u001b[38;5;241m/\u001b[39m \u001b[38;5;241m2\u001b[39m\n\u001b[0;32m--> 156\u001b[0m tr \u001b[38;5;241m=\u001b[39m \u001b[43mAffineTransform\u001b[49m\u001b[43m(\u001b[49m\u001b[43mdims\u001b[49m\u001b[38;5;241;43m=\u001b[39;49m\u001b[43m(\u001b[49m\u001b[38;5;28;43mself\u001b[39;49m\u001b[38;5;241;43m.\u001b[39;49m\u001b[43mimage\u001b[49m\u001b[38;5;241;43m.\u001b[39;49m\u001b[43mndim\u001b[49m\u001b[43m,\u001b[49m\u001b[43m \u001b[49m\u001b[38;5;28;43mself\u001b[39;49m\u001b[38;5;241;43m.\u001b[39;49m\u001b[43mimage\u001b[49m\u001b[38;5;241;43m.\u001b[39;49m\u001b[43mndim\u001b[49m\u001b[43m)\u001b[49m\u001b[43m,\u001b[49m\u001b[43m \u001b[49m\u001b[38;5;241;43m*\u001b[39;49m\u001b[38;5;241;43m*\u001b[39;49m\u001b[43mkwds\u001b[49m\u001b[43m)\u001b[49m\n\u001b[1;32m    157\u001b[0m tr\u001b[38;5;241m.\u001b[39mtranslate(\u001b[38;5;241m-\u001b[39mcenter1)\n\u001b[1;32m    158\u001b[0m \u001b[38;5;28;01mif\u001b[39;00m \u001b[38;5;28mself\u001b[39m\u001b[38;5;241m.\u001b[39mimage\u001b[38;5;241m.\u001b[39mndim \u001b[38;5;241m==\u001b[39m \u001b[38;5;241m2\u001b[39m:\n",
      "File \u001b[0;32m~/docs/acq4/deps/coorx/coorx/linear.py:537\u001b[0m, in \u001b[0;36mAffineTransform.__init__\u001b[0;34m(self, matrix, offset, dims, **kwargs)\u001b[0m\n\u001b[1;32m    534\u001b[0m dims \u001b[38;5;241m=\u001b[39m \u001b[38;5;28mself\u001b[39m\u001b[38;5;241m.\u001b[39m_dims_from_params(dims\u001b[38;5;241m=\u001b[39mdims, params\u001b[38;5;241m=\u001b[39m{\u001b[38;5;124m\"\u001b[39m\u001b[38;5;124mmatrix\u001b[39m\u001b[38;5;124m\"\u001b[39m: matrix, \u001b[38;5;124m\"\u001b[39m\u001b[38;5;124moffset\u001b[39m\u001b[38;5;124m\"\u001b[39m: offset})\n\u001b[1;32m    535\u001b[0m \u001b[38;5;28mself\u001b[39m\u001b[38;5;241m.\u001b[39m_inv_matrix \u001b[38;5;241m=\u001b[39m \u001b[38;5;28;01mNone\u001b[39;00m\n\u001b[0;32m--> 537\u001b[0m \u001b[38;5;28;43msuper\u001b[39;49m\u001b[43m(\u001b[49m\u001b[43m)\u001b[49m\u001b[38;5;241;43m.\u001b[39;49m\u001b[38;5;21;43m__init__\u001b[39;49m\u001b[43m(\u001b[49m\u001b[43mdims\u001b[49m\u001b[43m,\u001b[49m\u001b[43m \u001b[49m\u001b[38;5;241;43m*\u001b[39;49m\u001b[38;5;241;43m*\u001b[39;49m\u001b[43mkwargs\u001b[49m\u001b[43m)\u001b[49m\n\u001b[1;32m    539\u001b[0m \u001b[38;5;28mself\u001b[39m\u001b[38;5;241m.\u001b[39mreset()\n\u001b[1;32m    540\u001b[0m \u001b[38;5;28;01mif\u001b[39;00m matrix \u001b[38;5;129;01mis\u001b[39;00m \u001b[38;5;129;01mnot\u001b[39;00m \u001b[38;5;28;01mNone\u001b[39;00m:\n",
      "File \u001b[0;32m~/docs/acq4/deps/coorx/coorx/base_transform.py:80\u001b[0m, in \u001b[0;36mTransform.__init__\u001b[0;34m(self, dims, from_cs, to_cs, cs_graph)\u001b[0m\n\u001b[1;32m     78\u001b[0m \u001b[38;5;66;03m# optional coordinate system tracking\u001b[39;00m\n\u001b[1;32m     79\u001b[0m \u001b[38;5;28;01mif\u001b[39;00m from_cs \u001b[38;5;129;01mis\u001b[39;00m \u001b[38;5;129;01mnot\u001b[39;00m \u001b[38;5;28;01mNone\u001b[39;00m:\n\u001b[0;32m---> 80\u001b[0m     \u001b[38;5;28;43mself\u001b[39;49m\u001b[38;5;241;43m.\u001b[39;49m\u001b[43mset_systems\u001b[49m\u001b[43m(\u001b[49m\u001b[43mfrom_cs\u001b[49m\u001b[43m,\u001b[49m\u001b[43m \u001b[49m\u001b[43mto_cs\u001b[49m\u001b[43m,\u001b[49m\u001b[43m \u001b[49m\u001b[43mcs_graph\u001b[49m\u001b[43m)\u001b[49m\n",
      "File \u001b[0;32m~/docs/acq4/deps/coorx/coorx/base_transform.py:129\u001b[0m, in \u001b[0;36mTransform.set_systems\u001b[0;34m(self, from_cs, to_cs, cs_graph)\u001b[0m\n\u001b[1;32m    127\u001b[0m \u001b[38;5;28;01melse\u001b[39;00m:\n\u001b[1;32m    128\u001b[0m     cs_graph \u001b[38;5;241m=\u001b[39m CoordinateSystemGraph\u001b[38;5;241m.\u001b[39mget_graph(cs_graph)\n\u001b[0;32m--> 129\u001b[0m \u001b[43mcs_graph\u001b[49m\u001b[38;5;241;43m.\u001b[39;49m\u001b[43madd_transform\u001b[49m\u001b[43m(\u001b[49m\u001b[38;5;28;43mself\u001b[39;49m\u001b[43m,\u001b[49m\u001b[43m \u001b[49m\u001b[43mfrom_cs\u001b[49m\u001b[38;5;241;43m=\u001b[39;49m\u001b[43mfrom_cs\u001b[49m\u001b[43m,\u001b[49m\u001b[43m \u001b[49m\u001b[43mto_cs\u001b[49m\u001b[38;5;241;43m=\u001b[39;49m\u001b[43mto_cs\u001b[49m\u001b[43m)\u001b[49m\n",
      "File \u001b[0;32m~/docs/acq4/deps/coorx/coorx/systems.py:91\u001b[0m, in \u001b[0;36mCoordinateSystemGraph.add_transform\u001b[0;34m(self, transform, from_cs, to_cs)\u001b[0m\n\u001b[1;32m     88\u001b[0m \u001b[38;5;28;01mdef\u001b[39;00m \u001b[38;5;21madd_transform\u001b[39m(\u001b[38;5;28mself\u001b[39m, transform: \u001b[38;5;124m\"\u001b[39m\u001b[38;5;124mTransform\u001b[39m\u001b[38;5;124m\"\u001b[39m, from_cs: CoordSysOrStr, to_cs: CoordSysOrStr):\n\u001b[1;32m     89\u001b[0m     \u001b[38;5;66;03m# look up coordinate systems\u001b[39;00m\n\u001b[1;32m     90\u001b[0m     cs \u001b[38;5;241m=\u001b[39m (\n\u001b[0;32m---> 91\u001b[0m         \u001b[38;5;28;43mself\u001b[39;49m\u001b[38;5;241;43m.\u001b[39;49m\u001b[43mcheck_system\u001b[49m\u001b[43m(\u001b[49m\u001b[43mfrom_cs\u001b[49m\u001b[43m,\u001b[49m\u001b[43m \u001b[49m\u001b[43mndim\u001b[49m\u001b[38;5;241;43m=\u001b[39;49m\u001b[43mtransform\u001b[49m\u001b[38;5;241;43m.\u001b[39;49m\u001b[43mdims\u001b[49m\u001b[43m[\u001b[49m\u001b[38;5;241;43m0\u001b[39;49m\u001b[43m]\u001b[49m\u001b[43m,\u001b[49m\u001b[43m \u001b[49m\u001b[43mcreate\u001b[49m\u001b[38;5;241;43m=\u001b[39;49m\u001b[38;5;28;43;01mTrue\u001b[39;49;00m\u001b[43m)\u001b[49m,\n\u001b[1;32m     92\u001b[0m         \u001b[38;5;28mself\u001b[39m\u001b[38;5;241m.\u001b[39mcheck_system(to_cs, ndim\u001b[38;5;241m=\u001b[39mtransform\u001b[38;5;241m.\u001b[39mdims[\u001b[38;5;241m1\u001b[39m], create\u001b[38;5;241m=\u001b[39m\u001b[38;5;28;01mTrue\u001b[39;00m),\n\u001b[1;32m     93\u001b[0m     )\n\u001b[1;32m     95\u001b[0m     \u001b[38;5;66;03m# make sure no transform exists linking these systems\u001b[39;00m\n\u001b[1;32m     96\u001b[0m     \u001b[38;5;28;01mif\u001b[39;00m \u001b[38;5;28mself\u001b[39m\u001b[38;5;241m.\u001b[39munique_transforms:\n",
      "File \u001b[0;32m~/docs/acq4/deps/coorx/coorx/systems.py:128\u001b[0m, in \u001b[0;36mCoordinateSystemGraph.check_system\u001b[0;34m(self, system, ndim, create)\u001b[0m\n\u001b[1;32m    126\u001b[0m \u001b[38;5;66;03m# check ndim is correct\u001b[39;00m\n\u001b[1;32m    127\u001b[0m \u001b[38;5;28;01mif\u001b[39;00m ndim \u001b[38;5;129;01mis\u001b[39;00m \u001b[38;5;129;01mnot\u001b[39;00m \u001b[38;5;28;01mNone\u001b[39;00m \u001b[38;5;129;01mand\u001b[39;00m cs\u001b[38;5;241m.\u001b[39mndim \u001b[38;5;241m!=\u001b[39m ndim:\n\u001b[0;32m--> 128\u001b[0m     \u001b[38;5;28;01mraise\u001b[39;00m \u001b[38;5;167;01mTypeError\u001b[39;00m(\u001b[38;5;124mf\u001b[39m\u001b[38;5;124m\"\u001b[39m\u001b[38;5;124mSystem \u001b[39m\u001b[38;5;124m'\u001b[39m\u001b[38;5;132;01m{\u001b[39;00mcs\u001b[38;5;132;01m}\u001b[39;00m\u001b[38;5;124m'\u001b[39m\u001b[38;5;124m is \u001b[39m\u001b[38;5;132;01m{\u001b[39;00mcs\u001b[38;5;241m.\u001b[39mndim\u001b[38;5;132;01m}\u001b[39;00m\u001b[38;5;124mD (expected \u001b[39m\u001b[38;5;132;01m{\u001b[39;00mndim\u001b[38;5;132;01m}\u001b[39;00m\u001b[38;5;124mD)\u001b[39m\u001b[38;5;124m\"\u001b[39m)\n\u001b[1;32m    130\u001b[0m \u001b[38;5;28;01mreturn\u001b[39;00m cs\n",
      "\u001b[0;31mTypeError\u001b[0m: System 'image_2' is 2D (expected 3D)"
     ]
    }
   ],
   "source": [
    "img_data = np.ones((100, 100, 3)) * 0.5\n",
    "img_data[20:80, 20:80] -= 0.1\n",
    "img_data[:20, :20, 0] += .2\n",
    "img_data[80:, :20, 1] += .2\n",
    "img_data[:20, 80:, 2] += .2\n",
    "img_data[80:, 80:, [0,2]] += .2\n",
    "\n",
    "img1 = Image(img_data)\n",
    "pts1 = img1.point_array([[20, 20], [80, 20], [20, 80], [80, 80]])\n",
    "\n",
    "img2 = img1.rotate(30, axes=(0, 1), order=2, prefilter=True)\n",
    "pts2 = pts1.mapped_to(img2.system)\n",
    "\n",
    "img3 = img2[30:90, :]\n",
    "pts3 = pts1.mapped_to(img3.system)\n",
    "\n",
    "img4 = img3.zoom(0.5, prefilter=True, order=1)\n",
    "pts4 = pts1.mapped_to(img4.system)\n",
    "\n",
    "fig, ax = plt.subplots(2, 2, figsize=(10, 10))\n",
    "ax[0, 0].imshow(img1.image, cmap='gray', extent=(0, img1.n_cols, img1.n_rows, 0))\n",
    "ax[0, 0].scatter(pts1[:, 1], pts1[:, 0], color=('red', 'green', 'blue', 'magenta'), s=10)\n",
    "ax[0, 0].set_title('Original')\n",
    "\n",
    "ax[0, 1].imshow(img2.image, cmap='gray', extent=(0, img2.n_cols, img2.n_rows, 0))\n",
    "ax[0, 1].scatter(pts2[:, 1], pts2[:, 0], color=('red', 'green', 'blue', 'magenta'), s=10)\n",
    "ax[0, 1].set_title('Rotated')\n",
    "\n",
    "ax[1, 0].imshow(img3.image, cmap='gray', extent=(0, img3.n_cols, img3.n_rows, 0))\n",
    "ax[1, 0].scatter(pts3[:, 1], pts3[:, 0], color=('red', 'green', 'blue', 'magenta'), s=10)\n",
    "ax[1, 0].set_title('Rotated, cropped')\n",
    "\n",
    "ax[1, 1].imshow(img4.image, cmap='gray', extent=(0, img4.n_cols, img4.n_rows, 0))\n",
    "ax[1, 1].scatter(pts4[:, 1], pts4[:, 0], color=('red', 'green', 'blue', 'magenta'), s=10)\n",
    "ax[1, 1].set_title('Rotated, cropped, scaled')\n",
    "\n",
    "fig.tight_layout()\n",
    "\n",
    "# So that tests can tell if these values have changed\n",
    "print(pts1, pts2, pts3, pts4)"
   ]
  },
  {
   "cell_type": "code",
   "execution_count": null,
   "metadata": {},
   "outputs": [],
   "source": []
  }
 ],
 "metadata": {
  "kernelspec": {
   "display_name": "acq4",
   "language": "python",
   "name": "python3"
  },
  "language_info": {
   "codemirror_mode": {
    "name": "ipython",
    "version": 3
   },
   "file_extension": ".py",
   "mimetype": "text/x-python",
   "name": "python",
   "nbconvert_exporter": "python",
   "pygments_lexer": "ipython3",
   "version": "3.11.7"
  }
 },
 "nbformat": 4,
 "nbformat_minor": 2
}
