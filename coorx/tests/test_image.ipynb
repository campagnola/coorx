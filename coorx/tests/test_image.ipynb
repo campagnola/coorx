{
 "cells": [
  {
   "cell_type": "code",
   "metadata": {
    "ExecuteTime": {
     "end_time": "2025-06-24T23:24:33.665402Z",
     "start_time": "2025-06-24T23:24:33.663151Z"
    }
   },
   "source": [
    "###################\n",
    "# This gets run by the conftest.py NotebookFile plugin and asserts that all output cells\n",
    "# are identical (within tolerance) to the last run. Failed runs will save the output to a\n",
    "# separate file for review. If using `act -j test`, you will need to also pass `--bind`\n",
    "# to get that file.\n",
    "###################\n",
    "from coorx.image import Image\n",
    "import numpy as np\n",
    "import matplotlib.pyplot as plt"
   ],
   "outputs": [],
   "execution_count": 3
  },
  {
   "cell_type": "code",
   "metadata": {
    "ExecuteTime": {
     "end_time": "2025-06-24T23:24:33.814888Z",
     "start_time": "2025-06-24T23:24:33.788843Z"
    }
   },
   "source": [
    "img_data = np.ones((100, 100, 3)) * 0.5\n",
    "img_data[20:80, 20:80] -= 0.1\n",
    "img_data[:20, :20, 0] += .2\n",
    "img_data[80:, :20, 1] += .2\n",
    "img_data[:20, 80:, 2] += .2\n",
    "img_data[80:, 80:, [0,2]] += .2\n",
    "\n",
    "img1 = Image(img_data, axes=(0, 1))\n",
    "pts1 = img1.point_array([[20, 20], [80, 20], [20, 80], [80, 80]])\n",
    "\n",
    "img2 = img1.rotate(30, axes=(0, 1), order=2, prefilter=True)\n",
    "pts2 = pts1.mapped_to(img2.system)\n",
    "\n",
    "img3 = img2[30:90, :]\n",
    "pts3 = pts1.mapped_to(img3.system)\n",
    "\n",
    "img4 = img3.zoom(0.5, prefilter=True, order=1)\n",
    "pts4 = pts1.mapped_to(img4.system)\n",
    "\n",
    "fig, ax = plt.subplots(2, 2, figsize=(10, 10))\n",
    "ax[0, 0].imshow(img1.image, cmap='gray', extent=(0, img1.shape[0], img1.shape[1], 0))\n",
    "ax[0, 0].scatter(pts1[:, 1], pts1[:, 0], color=('red', 'green', 'blue', 'magenta'), s=10)\n",
    "ax[0, 0].set_title('Original')\n",
    "\n",
    "ax[0, 1].imshow(img2.image, cmap='gray', extent=(0, img2.shape[0], img2.shape[1], 0))\n",
    "ax[0, 1].scatter(pts2[:, 1], pts2[:, 0], color=('red', 'green', 'blue', 'magenta'), s=10)\n",
    "ax[0, 1].set_title('Rotated')\n",
    "\n",
    "ax[1, 0].imshow(img3.image, cmap='gray', extent=(0, img3.shape[0], img3.shape[1], 0))\n",
    "ax[1, 0].scatter(pts3[:, 1], pts3[:, 0], color=('red', 'green', 'blue', 'magenta'), s=10)\n",
    "ax[1, 0].set_title('Rotated, cropped')\n",
    "\n",
    "ax[1, 1].imshow(img4.image, cmap='gray', extent=(0, img4.shape[0], img4.shape[1], 0))\n",
    "ax[1, 1].scatter(pts4[:, 1], pts4[:, 0], color=('red', 'green', 'blue', 'magenta'), s=10)\n",
    "ax[1, 1].set_title('Rotated, cropped, scaled')\n",
    "\n",
    "fig.tight_layout()\n",
    "\n",
    "# So that tests can tell if these values have changed\n",
    "print(pts1, pts2, pts3, pts4)"
   ],
   "outputs": [
    {
     "ename": "AssertionError",
     "evalue": "Expected cropped image shape (slice(30, 90, None), slice(None, None, None)), got (60, 137, 3)",
     "output_type": "error",
     "traceback": [
      "\u001B[0;31m---------------------------------------------------------------------------\u001B[0m",
      "\u001B[0;31mAssertionError\u001B[0m                            Traceback (most recent call last)",
      "Cell \u001B[0;32mIn[4], line 14\u001B[0m\n\u001B[1;32m     11\u001B[0m img2 \u001B[38;5;241m=\u001B[39m img1\u001B[38;5;241m.\u001B[39mrotate(\u001B[38;5;241m30\u001B[39m, axes\u001B[38;5;241m=\u001B[39m(\u001B[38;5;241m0\u001B[39m, \u001B[38;5;241m1\u001B[39m), order\u001B[38;5;241m=\u001B[39m\u001B[38;5;241m2\u001B[39m, prefilter\u001B[38;5;241m=\u001B[39m\u001B[38;5;28;01mTrue\u001B[39;00m)\n\u001B[1;32m     12\u001B[0m pts2 \u001B[38;5;241m=\u001B[39m pts1\u001B[38;5;241m.\u001B[39mmapped_to(img2\u001B[38;5;241m.\u001B[39msystem)\n\u001B[0;32m---> 14\u001B[0m img3 \u001B[38;5;241m=\u001B[39m \u001B[43mimg2\u001B[49m\u001B[43m[\u001B[49m\u001B[38;5;241;43m30\u001B[39;49m\u001B[43m:\u001B[49m\u001B[38;5;241;43m90\u001B[39;49m\u001B[43m,\u001B[49m\u001B[43m \u001B[49m\u001B[43m:\u001B[49m\u001B[43m]\u001B[49m\n\u001B[1;32m     15\u001B[0m pts3 \u001B[38;5;241m=\u001B[39m pts1\u001B[38;5;241m.\u001B[39mmapped_to(img3\u001B[38;5;241m.\u001B[39msystem)\n\u001B[1;32m     17\u001B[0m img4 \u001B[38;5;241m=\u001B[39m img3\u001B[38;5;241m.\u001B[39mzoom(\u001B[38;5;241m0.5\u001B[39m, prefilter\u001B[38;5;241m=\u001B[39m\u001B[38;5;28;01mTrue\u001B[39;00m, order\u001B[38;5;241m=\u001B[39m\u001B[38;5;241m1\u001B[39m)\n",
      "File \u001B[0;32m~/src/acq4/coorx/coorx/image.py:144\u001B[0m, in \u001B[0;36mImage.__getitem__\u001B[0;34m(self, item)\u001B[0m\n\u001B[1;32m    142\u001B[0m     item \u001B[38;5;241m=\u001B[39m item \u001B[38;5;241m+\u001B[39m (\u001B[38;5;28mslice\u001B[39m(\u001B[38;5;28;01mNone\u001B[39;00m),) \u001B[38;5;241m*\u001B[39m (\u001B[38;5;28mself\u001B[39m\u001B[38;5;241m.\u001B[39mndim \u001B[38;5;241m-\u001B[39m \u001B[38;5;28mlen\u001B[39m(item))\n\u001B[1;32m    143\u001B[0m cropped_img \u001B[38;5;241m=\u001B[39m \u001B[38;5;28mself\u001B[39m\u001B[38;5;241m.\u001B[39mimage[item]\n\u001B[0;32m--> 144\u001B[0m \u001B[38;5;28;01massert\u001B[39;00m cropped_img\u001B[38;5;241m.\u001B[39mshape \u001B[38;5;241m==\u001B[39m item, \u001B[38;5;124mf\u001B[39m\u001B[38;5;124m\"\u001B[39m\u001B[38;5;124mExpected cropped image shape \u001B[39m\u001B[38;5;132;01m{\u001B[39;00mitem\u001B[38;5;132;01m}\u001B[39;00m\u001B[38;5;124m, got \u001B[39m\u001B[38;5;132;01m{\u001B[39;00mcropped_img\u001B[38;5;241m.\u001B[39mshape\u001B[38;5;132;01m}\u001B[39;00m\u001B[38;5;124m\"\u001B[39m\n\u001B[1;32m    145\u001B[0m img2 \u001B[38;5;241m=\u001B[39m \u001B[38;5;28mself\u001B[39m\u001B[38;5;241m.\u001B[39mcopy(image\u001B[38;5;241m=\u001B[39mcropped_img)\n\u001B[1;32m    146\u001B[0m img2\u001B[38;5;241m.\u001B[39m_parent_tr \u001B[38;5;241m=\u001B[39m \u001B[38;5;28mself\u001B[39m\u001B[38;5;241m.\u001B[39mmake_crop_transform(\n\u001B[1;32m    147\u001B[0m     item, \u001B[38;5;28mself\u001B[39m\u001B[38;5;241m.\u001B[39mimage, from_cs\u001B[38;5;241m=\u001B[39m\u001B[38;5;28mself\u001B[39m\u001B[38;5;241m.\u001B[39msystem, to_cs\u001B[38;5;241m=\u001B[39mimg2\u001B[38;5;241m.\u001B[39msystem\n\u001B[1;32m    148\u001B[0m )\n",
      "\u001B[0;31mAssertionError\u001B[0m: Expected cropped image shape (slice(30, 90, None), slice(None, None, None)), got (60, 137, 3)"
     ]
    }
   ],
   "execution_count": 4
  },
  {
   "cell_type": "code",
   "metadata": {},
   "source": [],
   "outputs": [],
   "execution_count": null
  }
 ],
 "metadata": {
  "kernelspec": {
   "display_name": "Python 3 (ipykernel)",
   "language": "python",
   "name": "python3"
  },
  "language_info": {
   "codemirror_mode": {
    "name": "ipython",
    "version": 3
   },
   "file_extension": ".py",
   "mimetype": "text/x-python",
   "name": "python",
   "nbconvert_exporter": "python",
   "pygments_lexer": "ipython3",
   "version": "3.11.7"
  }
 },
 "nbformat": 4,
 "nbformat_minor": 4
}
